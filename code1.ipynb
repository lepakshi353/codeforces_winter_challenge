{
 "cells": [
  {
   "cell_type": "code",
   "execution_count": 8,
   "metadata": {},
   "outputs": [],
   "source": [
    "contest_id='1891'"
   ]
  },
  {
   "cell_type": "markdown",
   "metadata": {},
   "source": [
    "Code for Extracting Ranks and Points of Codeforces Contest Using API Call\n"
   ]
  },
  {
   "cell_type": "code",
   "execution_count": 9,
   "metadata": {},
   "outputs": [
    {
     "name": "stdout",
     "output_type": "stream",
     "text": [
      "   Roll No.                      Name   Codeforces Handle\n",
      "0    B22114                  Lepakshi         Lepakshi353\n",
      "1   B22064         Priyanshi Agrawal   Priyanshi_IITMandi\n",
      "2    B22169                    Priyam    raj.priyam857885\n",
      "3    B22116            Medhansh Rawat            maddy_22\n",
      "4   B22127              Sameer Gupta            _justSam_\n",
      "..      ...                       ...                 ...\n",
      "66   B22161      Gargi Ketan Chauhan         GargiChauhan\n",
      "67  B22285                 Ananya Rai        ananyarai050\n",
      "68   b22321                 Smit Shah              Smit72\n",
      "69   B22307                    Nakul            Nakul2401\n",
      "70   B22120  Pranjali Milind Pilankar              b22120\n",
      "\n",
      "[71 rows x 3 columns]\n",
      "   Roll No.                      Name Codeforces Handle Rank in Contest1  \\\n",
      "34   B21193                   Sarvesh         Sarvesh43             2828   \n",
      "43   B21184               Ayush Gupta      b21184_Ayush             3520   \n",
      "58   B22214             Krish mittal      Krish_mittal              6539   \n",
      "7    B22149       Abhijeet Kumar Jha           ABHI0809             7226   \n",
      "46   B22097            chetan kukreja    Chetan_kukreja             7478   \n",
      "..      ...                       ...               ...              ...   \n",
      "32   B22110              Kavya Dhiman      kavya_dhiman                -   \n",
      "33   B21124            Sachit Munjal     codemachine_47                -   \n",
      "69   B22307                    Nakul          Nakul2401                -   \n",
      "37  b21175            Abhinav Singla       abhinavs0410                -   \n",
      "70   B22120  Pranjali Milind Pilankar            b22120                -   \n",
      "\n",
      "   Points1  Rank in College1  \n",
      "34     0.0                 1  \n",
      "43     0.0                 2  \n",
      "58     0.0                 3  \n",
      "7      0.0                 4  \n",
      "46     0.0                 5  \n",
      "..     ...               ...  \n",
      "32       -                67  \n",
      "33       -                68  \n",
      "69       -                69  \n",
      "37       -                70  \n",
      "70       -                71  \n",
      "\n",
      "[71 rows x 6 columns]\n"
     ]
    },
    {
     "name": "stderr",
     "output_type": "stream",
     "text": [
      "/var/folders/9r/m4tk04455bs9pzw2m4k1z01h0000gn/T/ipykernel_52449/1884136957.py:34: FutureWarning: Setting an item of incompatible dtype is deprecated and will raise in a future error of pandas. Value '-' has dtype incompatible with int64, please explicitly cast to a compatible dtype first.\n",
      "  myfile.loc[myfile[f'Rank in Contest{x}'] == 50000, f'Rank in Contest{x}'] = \"-\"\n",
      "/var/folders/9r/m4tk04455bs9pzw2m4k1z01h0000gn/T/ipykernel_52449/1884136957.py:45: FutureWarning: Setting an item of incompatible dtype is deprecated and will raise in a future error of pandas. Value '-' has dtype incompatible with float64, please explicitly cast to a compatible dtype first.\n",
      "  myfile.at[i,f\"Points{x}\"]=\"-\"\n"
     ]
    }
   ],
   "source": [
    "\n",
    "#func1 gives contest rank\n",
    "#func2 gives contest points\n",
    "x=str(int(contest_id)%10)\n",
    "import requests\n",
    "import pandas as pd\n",
    "myfile = pd.read_excel('excel_files/responses.xlsx')\n",
    "print(myfile)\n",
    "def func1(user_name,contest_id):\n",
    "    url=\"https://codeforces.com/api/contest.standings?contestId=\"+contest_id+\"&from=1&count=5&handles=\"+user_name+\"&showUnofficial=false\"\n",
    "    try:\n",
    "        # if rank exists\n",
    "        return requests.get(url).json()[\"result\"][\"rows\"][0][\"rank\"]\n",
    "        #otherwise max rank\n",
    "    except:\n",
    "        return 50000\n",
    "def func2(user_name,contest_id):\n",
    "    url=\"https://codeforces.com/api/contest.standings?contestId=\"+contest_id+\"&from=1&count=5&handles=\"+user_name+\"&showUnofficial=false\"\n",
    "    try:\n",
    "        # if points exists\n",
    "        return requests.get(url).json()[\"result\"][\"rows\"][0][\"points\"]\n",
    "        #otherwise min points\n",
    "    except:\n",
    "        return 0\n",
    "ranklist=[]\n",
    "pointsList=[]\n",
    "for i in myfile[\"Codeforces Handle\"]:\n",
    "    ranklist.append(func1(i,contest_id))\n",
    "    pointsList.append(func2(i,contest_id))\n",
    "indexlist=[]\n",
    "myfile[f\"Rank in Contest{x}\"]=ranklist\n",
    "myfile[f\"Points{x}\"]=pointsList\n",
    "indexlist=[i for i in range(1,len(myfile[\"Name\"])+1)]\n",
    "myfile=myfile.sort_values(by=[f'Rank in Contest{x}'], ascending=True)\n",
    "myfile.loc[myfile[f'Rank in Contest{x}'] == 50000, f'Rank in Contest{x}'] = \"-\"\n",
    "myfile[f\"Rank in College{x}\"]=indexlist\n",
    "def normalize_column(df, column_name, new_column_name, min_value, max_value):\n",
    "    if new_column_name is None:\n",
    "        new_column_name = column_name   \n",
    "    column = df[column_name]\n",
    "    df[new_column_name] = (column - column.min()) / (column.max() - column.min()) * (max_value - min_value) + min_value\n",
    "    return df\n",
    "myfile= normalize_column(myfile, f'Points{x}',None,0,300)\n",
    "for i in range(len(myfile[f\"Points{x}\"])):\n",
    "    if myfile.at[i,f\"Rank in Contest{x}\"]==\"-\":\n",
    "        myfile.at[i,f\"Points{x}\"]=\"-\"\n",
    "print(myfile)\n",
    "myfile.to_excel(f\"excel_files/contest_number.xlsx\",index=False)\n"
   ]
  },
  {
   "cell_type": "markdown",
   "metadata": {},
   "source": [
    "Code For Combining Points Of First 2 Contests\n"
   ]
  },
  {
   "cell_type": "code",
   "execution_count": 13,
   "metadata": {},
   "outputs": [
    {
     "name": "stdout",
     "output_type": "stream",
     "text": [
      "   Roll No.                    Name Codeforces Handle Rank in Contest  \\\n",
      "33   B21046                  Aman G           itzaman               -   \n",
      "34   B21104          Jyoti Baberwal          Jyoti786               -   \n",
      "0    B21111           Pankaj Poonia  Noooooooob_coder             389   \n",
      "64   B21124          Sachit Munjal     codemachine_47               -   \n",
      "39   B21158  Maduri Sindhuja Reddy         Sindhu1402               -   \n",
      "..      ...                     ...               ...             ...   \n",
      "66   b21303         lakshay nailwal     gladiator2002               -   \n",
      "16   b22023           Sneha Chandna   Sneha_Chandna__            8616   \n",
      "53   b22057                  ojaswi           nyx0852               -   \n",
      "26   b22187             Aditi Singh     aditi_singh24           10169   \n",
      "32   b22321               Smit Shah            Smit72               -   \n",
      "\n",
      "      Points points rank in contest  \n",
      "33         -      -               -  \n",
      "34         -      -               -  \n",
      "0        300    300             670  \n",
      "64         -      -               -  \n",
      "39         -      -               -  \n",
      "..       ...    ...             ...  \n",
      "66         -      -               -  \n",
      "16  35.89145      -               -  \n",
      "53         -      -               -  \n",
      "26         0      0           13731  \n",
      "32         -      -               -  \n",
      "\n",
      "[71 rows x 7 columns]\n"
     ]
    }
   ],
   "source": [
    "\n",
    "\n",
    "import pandas as pd\n",
    "myfile= pd.read_excel('excel_files/first.xlsx')\n",
    "myfile1=pd.read_excel('excel_files/second.xlsx')\n",
    "myfile=myfile.sort_values(by=[\"Roll No.\"], ascending=True)\n",
    "myfile1=myfile1.sort_values(by=[\"Roll No.\"], ascending=True)\n",
    "point_for2=list(myfile1[\"Points\"])\n",
    "rank_for2=list(myfile1[\"Rank in Contest\"])\n",
    "myfile.insert(6, 'points', point_for2)\n",
    "myfile.insert(7, 'rank in contest', rank_for2)\n",
    "# Drop unnecessary columns\n",
    "lisCol = [ \"Rank in College\"]\n",
    "myfile = myfile.drop(lisCol, axis=1)\n",
    "print(myfile)\n",
    "myfile.to_excel(\"excel_files/contest1+2.xlsx\", index=False)"
   ]
  },
  {
   "cell_type": "markdown",
   "metadata": {},
   "source": [
    "Code For Adding Total Points Of 2 Best Contests\n"
   ]
  },
  {
   "cell_type": "code",
   "execution_count": 14,
   "metadata": {},
   "outputs": [
    {
     "name": "stdout",
     "output_type": "stream",
     "text": [
      "-\n",
      "   Roll No.                    Name Codeforces Handle Rank in Contest  \\\n",
      "0    B21046                  Aman G           itzaman               -   \n",
      "1    B21104          Jyoti Baberwal          Jyoti786               -   \n",
      "2    B21111           Pankaj Poonia  Noooooooob_coder             389   \n",
      "3    B21124          Sachit Munjal     codemachine_47               -   \n",
      "4    B21158  Maduri Sindhuja Reddy         Sindhu1402               -   \n",
      "..      ...                     ...               ...             ...   \n",
      "66   b21303         lakshay nailwal     gladiator2002               -   \n",
      "67   b22023           Sneha Chandna   Sneha_Chandna__            8616   \n",
      "68   b22057                  ojaswi           nyx0852               -   \n",
      "69   b22187             Aditi Singh     aditi_singh24           10169   \n",
      "70   b22321               Smit Shah            Smit72               -   \n",
      "\n",
      "      Points points rank in contest  Total points  \n",
      "0          -      -               -      -1.00000  \n",
      "1          -      -               -      -1.00000  \n",
      "2        300    300             670     600.00000  \n",
      "3          -      -               -      -1.00000  \n",
      "4          -      -               -      -1.00000  \n",
      "..       ...    ...             ...           ...  \n",
      "66         -      -               -      -1.00000  \n",
      "67  35.89145      -               -      35.89145  \n",
      "68         -      -               -      -1.00000  \n",
      "69         0      0           13731       0.00000  \n",
      "70         -      -               -      -1.00000  \n",
      "\n",
      "[71 rows x 8 columns]\n"
     ]
    },
    {
     "name": "stderr",
     "output_type": "stream",
     "text": [
      "/var/folders/9r/m4tk04455bs9pzw2m4k1z01h0000gn/T/ipykernel_52449/2449660198.py:23: FutureWarning: Setting an item of incompatible dtype is deprecated and will raise in a future error of pandas. Value '-' has dtype incompatible with float64, please explicitly cast to a compatible dtype first.\n",
      "  myfile.loc[myfile['Total points'] == -1, 'Total points'] = \"-\"\n",
      "/var/folders/9r/m4tk04455bs9pzw2m4k1z01h0000gn/T/ipykernel_52449/2449660198.py:24: FutureWarning: Setting an item of incompatible dtype is deprecated and will raise in a future error of pandas. Value '-' has dtype incompatible with int64, please explicitly cast to a compatible dtype first.\n",
      "  myfile.loc[myfile['Total points'] == \"-\", 'Rank in College'] = \"-\"\n"
     ]
    }
   ],
   "source": [
    "\n",
    "myfile=pd.read_excel(\"excel_files/contest1+2.xlsx\")\n",
    "lst=[0 for i in range(len(myfile[\"rank in contest\"]))]\n",
    "print(myfile[\"points\"][1])\n",
    "for i in range(len(myfile[\"rank in contest\"])):\n",
    "    if myfile[\"Points\"][i]!='-'and myfile['points'][i]!='-':\n",
    "        lst[i]=myfile[\"Points\"][i] + myfile[\"points\"][i]\n",
    "    elif myfile[\"Points\"][i] == \"-\" and myfile[\"points\"][i] != \"-\":\n",
    "        lst[i]= myfile[\"points\"][i]\n",
    "    elif myfile[\"Points\"][i] != \"-\" and myfile[\"points\"][i] == \"-\":\n",
    "        lst[i]= myfile[\"Points\"][i]\n",
    "    else:\n",
    "        lst[i]=-1\n",
    "myfile.insert(7, 'Total points', lst)\n",
    "print(myfile)\n",
    "# Sort the DataFrame by \"Total points\" in descending order\n",
    "myfile = myfile.sort_values(by=[\"Total points\"], ascending=False)\n",
    "\n",
    "# Add the \"Rank in College\" column\n",
    "req_lst = [i + 1 for i in range(len(myfile[\"Points\"]))]\n",
    "myfile.insert(8, \"Rank in College\", req_lst)\n",
    "\n",
    "# Save the updated DataFrame to a new Excel file\n",
    "myfile.loc[myfile['Total points'] == -1, 'Total points'] = \"-\"\n",
    "myfile.loc[myfile['Total points'] == \"-\", 'Rank in College'] = \"-\"\n",
    "myfile.to_excel(\"excel_files/till_contest2.xlsx\", index=False)\n"
   ]
  },
  {
   "cell_type": "markdown",
   "metadata": {},
   "source": [
    "**Code for Making Final Ranklist Considering 2 Best Contests Out Of 3 Contests**\n"
   ]
  },
  {
   "cell_type": "code",
   "execution_count": 15,
   "metadata": {},
   "outputs": [
    {
     "name": "stderr",
     "output_type": "stream",
     "text": [
      "/var/folders/9r/m4tk04455bs9pzw2m4k1z01h0000gn/T/ipykernel_52449/232734907.py:42: FutureWarning: Setting an item of incompatible dtype is deprecated and will raise in a future error of pandas. Value '-' has dtype incompatible with float64, please explicitly cast to a compatible dtype first.\n",
      "  myfileF.loc[myfileF[\"points3\"] == -1, \"points3\"] = \"-\"\n",
      "/var/folders/9r/m4tk04455bs9pzw2m4k1z01h0000gn/T/ipykernel_52449/232734907.py:43: FutureWarning: Setting an item of incompatible dtype is deprecated and will raise in a future error of pandas. Value '-' has dtype incompatible with float64, please explicitly cast to a compatible dtype first.\n",
      "  myfileF.loc[myfileF[\"Total_Best2\"] == -1, \"Total_Best2\"] = \"-\"\n"
     ]
    }
   ],
   "source": [
    "\n",
    "import pandas as pd\n",
    "myfile = pd.read_excel('excel_files/third.xlsx')\n",
    "myfile=myfile.sort_values(by=[\"Roll No.\"], ascending=True)\n",
    "myfile1=pd.read_excel(\"excel_files/till_contest2.xlsx\")\n",
    "myfile1=myfile1.sort_values(by=[\"Roll No.\"], ascending=True)\n",
    "# print(myfile)\n",
    "# print(myfile1)\n",
    "\n",
    "point1=list(myfile1[\"points\"])\n",
    "point2=list(myfile1[\"Points\"])\n",
    "point3=list(myfile[\"Points4\"])\n",
    "\n",
    "\n",
    "rank3=list(myfile[\"Rank in Contest4\"])\n",
    "listcol=[\"Total points\"]\n",
    "for i in point1:\n",
    "    if i=='-':\n",
    "         point1[point1.index(i)]=-1\n",
    "for i in point2:\n",
    "    if i=='-':\n",
    "         point2[point2.index(i)]=-1\n",
    "for i in point3:\n",
    "    if i=='-':\n",
    "        point3[point3.index(i)]=-1\n",
    "myfileF=myfile1.drop(listcol, axis = 1)\n",
    "total_points=[]\n",
    "for i in range(len(point3)):\n",
    "    lst=[point1[i],point2[i],point3[i]]\n",
    "    t=max(lst)\n",
    "    lst.remove(t)\n",
    "    u=max(lst)\n",
    "    if t==-1 and u==-1:\n",
    "        total_points.append(-1)\n",
    "    elif  t==-1 or u==-1:\n",
    "        total_points.append(max(t,u))\n",
    "    else:\n",
    "        total_points.append(t+u)\n",
    "myfileF[\"points3\"]=point3\n",
    "myfileF[\"Rank in Contest3\"]=rank3\n",
    "myfileF[\"Total_Best2\"]=total_points\n",
    "myfileF=myfileF.sort_values(by=[\"Total_Best2\"], ascending=False)\n",
    "myfileF.loc[myfileF[\"points3\"] == -1, \"points3\"] = \"-\"\n",
    "myfileF.loc[myfileF[\"Total_Best2\"] == -1, \"Total_Best2\"] = \"-\"\n",
    "myfileF.to_excel(f\"excel_files/final_ranklist.xlsx\",index=False)\n"
   ]
  },
  {
   "cell_type": "code",
   "execution_count": null,
   "metadata": {},
   "outputs": [],
   "source": []
  },
  {
   "cell_type": "code",
   "execution_count": null,
   "metadata": {},
   "outputs": [],
   "source": []
  },
  {
   "cell_type": "code",
   "execution_count": null,
   "metadata": {},
   "outputs": [],
   "source": []
  }
 ],
 "metadata": {
  "kernelspec": {
   "display_name": "Python 3",
   "language": "python",
   "name": "python3"
  },
  "language_info": {
   "codemirror_mode": {
    "name": "ipython",
    "version": 3
   },
   "file_extension": ".py",
   "mimetype": "text/x-python",
   "name": "python",
   "nbconvert_exporter": "python",
   "pygments_lexer": "ipython3",
   "version": "3.11.0"
  }
 },
 "nbformat": 4,
 "nbformat_minor": 2
}
